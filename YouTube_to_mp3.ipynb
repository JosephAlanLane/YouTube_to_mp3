{
 "cells": [
  {
   "cell_type": "code",
   "execution_count": 3,
   "id": "d0d7c779",
   "metadata": {},
   "outputs": [],
   "source": [
    "def YouTube_to_mp3(playlist, directory = r'C:'):\n",
    "    '''\n",
    "    playlist: get URL from your favorite YouTube playlist or a video link from within the playlist\n",
    "    directory: Give the full explicit directory. example: r'C:[PATH]'\n",
    "    \n",
    "    Notes: \n",
    "        1. put r infront of directory so that the backslashes are not parsed as escape characters.\n",
    "        2. Make sure the playlist is public otherwise this will not work.\n",
    "        3. If you have an iphone and iTunes isn't working, I'd recommend CopyTrans. \n",
    "            It's free and works well for uploading to iphones. \n",
    "        4. If your directory folder doesn't exist, that's ok because it'll be made. \n",
    "    '''\n",
    "    \n",
    "    import pytube\n",
    "    from moviepy.editor import AudioFileClip\n",
    "    import os\n",
    "    import glob\n",
    "    \n",
    "    exists = os.path.exists(directory)\n",
    "    if not exists: \n",
    "       # Create a new directory because it does not exist\n",
    "        os.makedirs(directory)\n",
    "        print(f\"The new directory: {directory} is created!\")\n",
    "    \n",
    "    pl = pytube.Playlist(playlist)\n",
    "    for video in pl.videos:\n",
    "        video.streams.filter(only_audio=True).first().download(directory)\n",
    "        \n",
    "        \n",
    "        \n",
    "    # iterate over files in\n",
    "    # that directory\n",
    "    for filename in os.listdir(directory):\n",
    "        f = os.path.join(directory, filename)\n",
    "        # checking if it is a file\n",
    "        if os.path.isfile(f):\n",
    "            print(f)\n",
    "            mp4_without_frames = AudioFileClip(f)\n",
    "            mp4_without_frames.write_audiofile(f.replace('mp4','mp3'))     \n",
    "            mp4_without_frames.close()\n",
    "            \n",
    "    for mp4path in glob.iglob(os.path.join(directory, '*.mp4')):\n",
    "        os.remove(mp4path)"
   ]
  }
 ],
 "metadata": {
  "kernelspec": {
   "display_name": "Python 3 (ipykernel)",
   "language": "python",
   "name": "python3"
  },
  "language_info": {
   "codemirror_mode": {
    "name": "ipython",
    "version": 3
   },
   "file_extension": ".py",
   "mimetype": "text/x-python",
   "name": "python",
   "nbconvert_exporter": "python",
   "pygments_lexer": "ipython3",
   "version": "3.10.7"
  }
 },
 "nbformat": 4,
 "nbformat_minor": 5
}
